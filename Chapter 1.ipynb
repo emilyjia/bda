{
 "cells": [
  {
   "cell_type": "markdown",
   "metadata": {},
   "source": [
    "## Number 9. Simulating queuing problem at clinic\n",
    "\n",
    "- 3 doctors\n",
    "- Clinic opens at 9am\n",
    "- Expo w/ 10 min expectation between arrivals\n",
    "- Doctor spends uniform 5-20 min\n",
    "- Stop admitting at 4 PM"
   ]
  },
  {
   "cell_type": "code",
   "execution_count": 2,
   "metadata": {},
   "outputs": [],
   "source": [
    "import numpy as np"
   ]
  },
  {
   "cell_type": "code",
   "execution_count": 93,
   "metadata": {},
   "outputs": [],
   "source": [
    "# parameters set in problem statement\n",
    "open_duration = 7 * 60 * 60\n",
    "doctor_service_low = 5 * 60\n",
    "doctor_service_high = 10 * 60\n",
    "arrival_mean = 10 * 60"
   ]
  },
  {
   "cell_type": "markdown",
   "metadata": {},
   "source": [
    "One day simulation at clinic"
   ]
  },
  {
   "cell_type": "code",
   "execution_count": 94,
   "metadata": {},
   "outputs": [],
   "source": [
    "def simulate_one_day():\n",
    "    # time until next arrival\n",
    "    next_arrival = 0\n",
    "\n",
    "    # seconds left until the doctor is available\n",
    "    doctors = [0, 0, 0] \n",
    "\n",
    "    # list of how long each unserviced customer has been waiting\n",
    "    customers = []\n",
    "\n",
    "    # list of final wait times\n",
    "    wait_times = []\n",
    "\n",
    "    # list of arrivals, doctor assignments, waits\n",
    "    events = []\n",
    "\n",
    "    # second keeps track of time\n",
    "    second = 0\n",
    "\n",
    "    is_open = True\n",
    "\n",
    "    # check that store is either open, there are customers waiting in line, or doctors still serving\n",
    "    while is_open or customers or (not all(doctor == 0 for doctor in doctors)):\n",
    "        is_open = (second < open_duration)\n",
    "        if customers:\n",
    "            events.append((second, \"customer waits \" + str(customers)))\n",
    "        customers = [x+1 for x in customers]\n",
    "        if is_open and next_arrival < second:\n",
    "            customers.append(0)\n",
    "            events.append((second, \"arrival\"))\n",
    "            next_arrival = second + np.random.exponential(scale = 10 * 60)\n",
    "        for i, wait in enumerate(doctors):\n",
    "            # if there's an available doctor, give them a customer\n",
    "            if wait == 0 and customers:\n",
    "                wait_times.append(customers.pop(0))\n",
    "                doctors[i] = np.random.uniform(doctor_service_low, doctor_service_high)\n",
    "                events.append((second, \"customer done at \" + str(doctors[i] + second)))\n",
    "            # otherwise, subtract wait time\n",
    "            else:\n",
    "                doctors[i] = max(0, wait - 1)\n",
    "        second += 1\n",
    "    return wait_times, second"
   ]
  },
  {
   "cell_type": "markdown",
   "metadata": {},
   "source": [
    "Run the simulation 100 times"
   ]
  },
  {
   "cell_type": "code",
   "execution_count": 85,
   "metadata": {
    "scrolled": true
   },
   "outputs": [],
   "source": [
    "total_patients = []\n",
    "total_waited = []\n",
    "average_wait = []\n",
    "open_time = []\n",
    "for i in range(100):\n",
    "    wait_times, second = simulate_one_day()\n",
    "    total_patients.append(len(wait_times))\n",
    "    waits = [wait for wait in wait_times if wait > 0]\n",
    "    total_waited.append(len(waits))\n",
    "    if len(waits) > 0:\n",
    "        average_wait.append(np.mean(waits))\n",
    "    open_time.append(second)"
   ]
  },
  {
   "cell_type": "code",
   "execution_count": 86,
   "metadata": {},
   "outputs": [
    {
     "name": "stdout",
     "output_type": "stream",
     "text": [
      "43.0\n",
      "2.0\n",
      "131.5\n",
      "25252.0\n"
     ]
    }
   ],
   "source": [
    "print(np.quantile(total_patients, 0.5))\n",
    "print(np.quantile(total_waited, 0.5))\n",
    "print(np.quantile(average_wait, 0.5))\n",
    "print(np.quantile(open_time, 0.5))"
   ]
  },
  {
   "cell_type": "markdown",
   "metadata": {},
   "source": [
    "Compute 50% confidence interval for the median"
   ]
  },
  {
   "cell_type": "code",
   "execution_count": 90,
   "metadata": {},
   "outputs": [],
   "source": [
    "def get_conf(lst, percent, samples):\n",
    "    medians = []\n",
    "    tails = (100 - percent)/100/2\n",
    "    for i in range(samples):\n",
    "        sample = [np.random.choice(lst) for _ in lst]\n",
    "        medians.append(np.quantile(sample, 0.5))\n",
    "    return np.quantile(medians, tails), np.quantile(medians,1-tails)"
   ]
  },
  {
   "cell_type": "code",
   "execution_count": 91,
   "metadata": {},
   "outputs": [
    {
     "data": {
      "text/plain": [
       "(43.0, 43.5)"
      ]
     },
     "execution_count": 91,
     "metadata": {},
     "output_type": "execute_result"
    }
   ],
   "source": [
    "get_conf(total_patients, 50, 100)"
   ]
  },
  {
   "cell_type": "markdown",
   "metadata": {},
   "source": [
    "## Number 5. Predicting number of ties in a Congressional election. \n",
    "\n",
    "- 50k to 350k votes in election"
   ]
  },
  {
   "cell_type": "code",
   "execution_count": 5,
   "metadata": {},
   "outputs": [],
   "source": [
    "from scipy.stats import binom"
   ]
  },
  {
   "cell_type": "markdown",
   "metadata": {},
   "source": [
    "- let's say that the number of votes is uniformly distributed (50k, 350k)\n",
    "- and say that the expected probability of a congressperson winning a vote is uniform (25, 75)"
   ]
  },
  {
   "cell_type": "code",
   "execution_count": 37,
   "metadata": {},
   "outputs": [],
   "source": [
    "def get_tie_probability(samples):\n",
    "    probs = []\n",
    "    for _ in range(samples):\n",
    "        number_of_votes = np.random.uniform(50000, 350000)\n",
    "        half_vote = int(number_of_votes/2)\n",
    "        win_rate = np.random.normal(loc = 0.5, scale = 0.2)\n",
    "        prob = binom.pmf(half_vote, number_of_votes, win_rate)\n",
    "        probs.append(prob)\n",
    "    return probs"
   ]
  },
  {
   "cell_type": "code",
   "execution_count": 31,
   "metadata": {},
   "outputs": [
    {
     "data": {
      "text/plain": [
       "6.25e-06"
      ]
     },
     "execution_count": 31,
     "metadata": {},
     "output_type": "execute_result"
    }
   ],
   "source": [
    "1/160000"
   ]
  },
  {
   "cell_type": "code",
   "execution_count": 38,
   "metadata": {},
   "outputs": [
    {
     "data": {
      "text/plain": [
       "1.663025240777082e-09"
      ]
     },
     "execution_count": 38,
     "metadata": {},
     "output_type": "execute_result"
    }
   ],
   "source": [
    "np.mean(get_tie_probability(100))"
   ]
  },
  {
   "cell_type": "markdown",
   "metadata": {},
   "source": [
    "- what should the scale be so that the probability of winning within a margin of 100 is 49/20597"
   ]
  },
  {
   "cell_type": "code",
   "execution_count": 30,
   "metadata": {},
   "outputs": [
    {
     "name": "stdout",
     "output_type": "stream",
     "text": [
      "scale: 0.0\n",
      "scale: 0.01\n",
      "scale: 0.02\n",
      "scale: 0.03\n",
      "scale: 0.04\n",
      "scale: 0.05\n",
      "scale: 0.06\n",
      "scale: 0.07\n",
      "scale: 0.08\n",
      "scale: 0.09\n",
      "scale: 0.1\n",
      "scale: 0.11\n",
      "scale: 0.12\n",
      "scale: 0.13\n",
      "scale: 0.14\n",
      "scale: 0.15\n",
      "scale: 0.16\n",
      "scale: 0.17\n",
      "scale: 0.18\n",
      "scale: 0.19\n"
     ]
    }
   ],
   "source": [
    "scales = np.arange(0, 0.2, 0.01)\n",
    "hundred_vote_means = []\n",
    "samples = 10000\n",
    "for scale in scales:\n",
    "    print(\"scale: \" + str(scale))\n",
    "    scale_probs = []\n",
    "    for _ in range(samples):\n",
    "        number_of_votes = np.random.uniform(50000, 350000)\n",
    "        half_vote = int(number_of_votes/2)\n",
    "        win_rate = np.random.normal(loc = 0.5, scale = scale)\n",
    "        prob_low = binom.cdf(half_vote - 50, number_of_votes, win_rate)\n",
    "        prob_high = binom.cdf(half_vote + 50, number_of_votes, win_rate)\n",
    "        scale_probs.append(prob_high - prob_low)\n",
    "    # print(\"mean: \" + str(np.nanmean(scale_probs) - 49/20597))\n",
    "    hundred_vote_means.append(np.nanmean(scale_probs) - 49/20597)"
   ]
  },
  {
   "cell_type": "code",
   "execution_count": 31,
   "metadata": {},
   "outputs": [
    {
     "name": "stdout",
     "output_type": "stream",
     "text": [
      "scale: 0.0\n",
      "scale: 0.01\n",
      "scale: 0.02\n",
      "scale: 0.03\n",
      "scale: 0.04\n",
      "scale: 0.05\n",
      "scale: 0.06\n",
      "scale: 0.07\n",
      "scale: 0.08\n",
      "scale: 0.09\n",
      "scale: 0.1\n",
      "scale: 0.11\n",
      "scale: 0.12\n",
      "scale: 0.13\n",
      "scale: 0.14\n",
      "scale: 0.15\n",
      "scale: 0.16\n",
      "scale: 0.17\n",
      "scale: 0.18\n",
      "scale: 0.19\n"
     ]
    }
   ],
   "source": [
    "scales = np.arange(0, 0.2, 0.01)\n",
    "ten_vote_means = []\n",
    "samples = 10000\n",
    "for scale in scales:\n",
    "    print(\"scale: \" + str(scale))\n",
    "    scale_probs = []\n",
    "    for _ in range(samples):\n",
    "        number_of_votes = np.random.uniform(50000, 350000)\n",
    "        half_vote = int(number_of_votes/2)\n",
    "        win_rate = np.random.normal(loc = 0.5, scale = scale)\n",
    "        prob_low = binom.cdf(half_vote - 5, number_of_votes, win_rate)\n",
    "        prob_high = binom.cdf(half_vote + 5, number_of_votes, win_rate)\n",
    "        scale_probs.append(prob_high - prob_low)\n",
    "    # print(\"mean: \" + str(np.nanmean(scale_probs) - 49/20597))\n",
    "    ten_vote_means.append(np.nanmean(scale_probs) - 6/20597)"
   ]
  },
  {
   "cell_type": "code",
   "execution_count": 14,
   "metadata": {},
   "outputs": [],
   "source": [
    "import matplotlib.pyplot as plt"
   ]
  },
  {
   "cell_type": "code",
   "execution_count": 36,
   "metadata": {},
   "outputs": [
    {
     "data": {
      "text/plain": [
       "Text(0.5, 0, 'scale factor')"
      ]
     },
     "execution_count": 36,
     "metadata": {},
     "output_type": "execute_result"
    },
    {
     "data": {
      "image/png": "[encoded data removed]",
      "text/plain": [
       "<Figure size 432x288 with 1 Axes>"
      ]
     },
     "metadata": {
      "needs_background": "light"
     },
     "output_type": "display_data"
    }
   ],
   "source": [
    "plt.scatter(scales, np.log(np.abs(ten_vote_means)), label = \"ten vote\")\n",
    "plt.scatter(scales, np.log(np.abs(hundred_vote_means)), label = \"hundred vote\")\n",
    "plt.legend()\n",
    "plt.title(\"Log error, 10k simulations\")\n",
    "plt.xlabel(\"scale factor\")"
   ]
  }
 ],
 "metadata": {
  "kernelspec": {
   "display_name": "Python [conda env:anaconda-primo]",
   "language": "python",
   "name": "conda-env-anaconda-primo-py"
  },
  "language_info": {
   "codemirror_mode": {
    "name": "ipython",
    "version": 3
   },
   "file_extension": ".py",
   "mimetype": "text/x-python",
   "name": "python",
   "nbconvert_exporter": "python",
   "pygments_lexer": "ipython3",
   "version": "3.6.9"
  }
 },
 "nbformat": 4,
 "nbformat_minor": 2
}
